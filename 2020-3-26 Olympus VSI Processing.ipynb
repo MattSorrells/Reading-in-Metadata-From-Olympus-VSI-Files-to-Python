{
 "cells": [
  {
   "cell_type": "markdown",
   "metadata": {},
   "source": [
    "# Cell Sens VSI Metadata Reading Tutorial"
   ]
  },
  {
   "cell_type": "markdown",
   "metadata": {},
   "source": [
    "## In this tutorial we will go through how to use python to read metadata from .vsi files in CellSens. This approach is particularly useful because parameters such as date, image scale, z-stack spacing, and many others are automatically stored in the metadata and can be used for analysis. Some of this can be done really easily with the package Bioformats, others we will have to do manually by navigating the complementary \".oex\" file made with every Cell Sens VSI\n",
    "\n",
    "### Important functions to import"
   ]
  },
  {
   "cell_type": "code",
   "execution_count": 1,
   "metadata": {},
   "outputs": [],
   "source": [
    "import javabridge # Used for tunneling to java where bioformats is primarily written in\n",
    "import xml.etree.ElementTree as ET # Used for manually navigating .oex files\n",
    "import bioformats # Used automatically reading in bioformats data"
   ]
  },
  {
   "cell_type": "markdown",
   "metadata": {},
   "source": [
    "## First we'll write the functions to manually look through the .eox file for some important metadata not accessible through bioformats. An oex file is basically a xml file, so we'll use this function with a .xml package  "
   ]
  },
  {
   "cell_type": "markdown",
   "metadata": {},
   "source": [
    "### Function to look in a directory of the xml and find the subdirectory you're querying. Used for the manual metedata extraction"
   ]
  },
  {
   "cell_type": "code",
   "execution_count": 2,
   "metadata": {},
   "outputs": [],
   "source": [
    "def query_branches(loop,tag,attrib):\n",
    "    found=False\n",
    "    # search through subdirectories of directory\n",
    "    for l in loop:\n",
    "        # if the tag and attribute match of subdir match return the subdir\n",
    "        if l.tag ==tag and l.attrib['name']==attrib:\n",
    "            new_loop=l\n",
    "            found=True\n",
    "            break\n",
    "    if found:\n",
    "        return new_loop\n",
    "    else:\n",
    "        return 'not_found'"
   ]
  },
  {
   "cell_type": "markdown",
   "metadata": {},
   "source": [
    "### Next we will take the query_branches function and pass it into this function that iterated through nodes of an xml file to extract the metadata we wat"
   ]
  },
  {
   "cell_type": "code",
   "execution_count": 3,
   "metadata": {},
   "outputs": [],
   "source": [
    "# paths through the xml file to final metadata value\n",
    "default_locations=[['Loop','cycle time'],['Loop','Z-Stack','step width']]\n",
    "default_tag=[['node','attribute'],['node','node','attribute']]\n",
    "def extract_meta_manual(file_path,locations=default_locations,tag=default_tag,metadata=dict()):\n",
    "    file_path=file_path.replace('vsi','oex')\n",
    "    tree=ET.parse(file_path)\n",
    "    root=tree.getroot()\n",
    "    # get into net\n",
    "    for subroot in root:\n",
    "        if subroot.tag=='net':\n",
    "            root=subroot\n",
    "            break\n",
    "    # iterate through the different values we want to get\n",
    "    for i in range(len(locations)):\n",
    "        loop_root=root\n",
    "        path=locations[i][:]\n",
    "        path_tag=tag[i][:]\n",
    "        # naviate through the directed paths of the xml file\n",
    "        for j in range(len(path)):\n",
    "            loop_root=query_branches(loop_root,path_tag[j],path[j])\n",
    "            # if at the end of the path get the metadata value we want and append it to a dictionary\n",
    "            if j==len(path)-1:\n",
    "                if  loop_root!='not_found':\n",
    "                    for l in loop_root:\n",
    "                        metadata[path[j]]=l.get('val')\n",
    "    return metadata"
   ]
  },
  {
   "cell_type": "markdown",
   "metadata": {},
   "source": [
    "### Now we write a function that used bioformats to get the other metadata we want"
   ]
  },
  {
   "cell_type": "code",
   "execution_count": 4,
   "metadata": {},
   "outputs": [],
   "source": [
    "# ---- Function that gets the attainable information using bioformats\n",
    "def extract_meta_bioformats(filepath, metadata=dict()):\n",
    "    omexmlstr = bioformats.get_omexml_metadata(filepath)\n",
    "    o = bioformats.OMEXML(omexmlstr)\n",
    "    x = o.image().Pixels\n",
    "    metadata['size_Z'] = x.SizeZ\n",
    "    metadata['size_T'] = x.SizeT\n",
    "    metadata['scale'] = x.PhysicalSizeX\n",
    "    return metadata"
   ]
  },
  {
   "cell_type": "markdown",
   "metadata": {},
   "source": [
    "### A few auxillary functions used to make string and filename handling easier..."
   ]
  },
  {
   "cell_type": "code",
   "execution_count": 5,
   "metadata": {},
   "outputs": [],
   "source": [
    "def split(word):\n",
    "    return [char for char in word]"
   ]
  },
  {
   "cell_type": "code",
   "execution_count": 6,
   "metadata": {},
   "outputs": [],
   "source": [
    "def increment_numbers(string,incrementor):\n",
    "    nums=[]\n",
    "    location=[]\n",
    "    split_string=split(string)\n",
    "    for i in range(len(split_string)):\n",
    "        if split_string[i].isdigit():\n",
    "            nums.append(split_string[i])\n",
    "            location.append(i)\n",
    "    nums=[int(i) for i in split(string) if i.isdigit()]\n",
    "    original=nums[-1]\n",
    "    update=original-incrementor\n",
    "    loc=location[-1]\n",
    "    split_string[loc]=str(update)\n",
    "    new_string = \"\".join(split_string)\n",
    "    return new_string"
   ]
  },
  {
   "cell_type": "markdown",
   "metadata": {},
   "source": [
    "### Now we tie all of these together in the function \"extract metadata\". This function takes the inputted filepath of the .vsi file and outputs a dictionary of metadata"
   ]
  },
  {
   "cell_type": "code",
   "execution_count": 7,
   "metadata": {},
   "outputs": [],
   "source": [
    "# ---- Main function that extracts the relevant metadata from a vsi file\n",
    "def extract_metadata(filepath,cycle_vm=True,increment_num=None):\n",
    "    if cycle_vm:\n",
    "        javabridge.start_vm(class_path=bioformats.JARS)\n",
    "    biof=extract_meta_bioformats(filepath)\n",
    "    if increment_num is not None:\n",
    "        filepath=increment_numbers(filepath,increment_num)\n",
    "    metadata=extract_meta_manual(filepath,metadata=biof)\n",
    "    if cycle_vm:\n",
    "        javabridge.kill_vm()\n",
    "    return metadata"
   ]
  },
  {
   "cell_type": "markdown",
   "metadata": {},
   "source": [
    "### Example of code in action "
   ]
  },
  {
   "cell_type": "code",
   "execution_count": 8,
   "metadata": {},
   "outputs": [
    {
     "data": {
      "text/plain": [
       "{'size_Z': 7,\n",
       " 'size_T': 220,\n",
       " 'scale': 0.16250000000000003,\n",
       " 'cycle time': '3.2074099999999998722',\n",
       " 'step width': '3.9500000000000001776'}"
      ]
     },
     "execution_count": 8,
     "metadata": {},
     "output_type": "execute_result"
    }
   ],
   "source": [
    "import os\n",
    "path=os.getcwd()+'/Assay 1_03.vsi'\n",
    "path=path.replace('\\\\','/')\n",
    "meta=extract_metadata(path)\n",
    "meta"
   ]
  },
  {
   "cell_type": "code",
   "execution_count": null,
   "metadata": {},
   "outputs": [],
   "source": []
  }
 ],
 "metadata": {
  "kernelspec": {
   "display_name": "Python 3 (Spyder)",
   "language": "python3",
   "name": "python3"
  },
  "language_info": {
   "codemirror_mode": {
    "name": "ipython",
    "version": 3
   },
   "file_extension": ".py",
   "mimetype": "text/x-python",
   "name": "python",
   "nbconvert_exporter": "python",
   "pygments_lexer": "ipython3",
   "version": "3.7.7"
  }
 },
 "nbformat": 4,
 "nbformat_minor": 2
}
